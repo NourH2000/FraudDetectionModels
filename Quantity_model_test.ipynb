{
 "cells": [
  {
   "cell_type": "code",
   "execution_count": 19,
   "id": "58f881e3",
   "metadata": {},
   "outputs": [],
   "source": [
    "from cassandra.cluster import Cluster\n",
    "import pandas as pd\n",
    "from pyspark.sql import SparkSession\n",
    "from pyspark import SparkConf, SparkContext\n",
    "\n",
    "from pyspark.sql import SQLContext\n",
    "import numpy as np\n",
    "from pyspark.sql.functions import split, col"
   ]
  },
  {
   "cell_type": "code",
   "execution_count": 20,
   "id": "f35a9b9a",
   "metadata": {},
   "outputs": [],
   "source": [
    "#new spark session \n",
    "spark = SparkSession.builder.appName('PPA detection').getOrCreate()"
   ]
  },
  {
   "cell_type": "code",
   "execution_count": 21,
   "id": "f6b9c8e9",
   "metadata": {},
   "outputs": [],
   "source": [
    "#connection to cassandra database and cnas keyspace\n",
    "cluster = Cluster(['127.0.0.1'])\n",
    "session = cluster.connect('cnas')"
   ]
  },
  {
   "cell_type": "code",
   "execution_count": 22,
   "id": "c110ecc4",
   "metadata": {},
   "outputs": [],
   "source": [
    "rows = session.execute('select * from cnas   ALLOW FILTERING;')\n"
   ]
  },
  {
   "cell_type": "code",
   "execution_count": 23,
   "id": "a65664ee",
   "metadata": {},
   "outputs": [],
   "source": [
    "dftable = pd.DataFrame(list(rows))"
   ]
  },
  {
   "cell_type": "code",
   "execution_count": 24,
   "id": "84e7727c",
   "metadata": {},
   "outputs": [],
   "source": [
    "# transformation :\n",
    "\n",
    "#remplacer None avec -1 ( aucune affection) dans la coloumn affection\n",
    "dftable.affection.fillna(value=-1, inplace=True)\n",
    "\n",
    "#remplacer None avec 0 ( aucune quantitée rejetée ) dans la coloumn qte_rejet\n",
    "dftable.qte_rejet.fillna(value=0, inplace=True)\n",
    "\n",
    "\n",
    "# delete rows where the quantite_med == 0\n",
    "dftable.drop(dftable[dftable['quantite_med'] == 0].index, inplace = True)\n",
    "\n",
    "#delete rejected quantity , but before this , we need to save the rows having quantity rejected > 0\n",
    "#df_rejected = dftable[dftable['qte_rejet'] > 0]\n",
    "#dftable.drop(dftable[dftable['qte_rejet'] > 0].index, inplace = True)\n",
    "\n",
    "\n",
    "#remplacer None avec 0 ( aucune durée spécifiée ) dans la coloumn duree_traitement\n",
    "dftable.duree_traitement.fillna(value=0, inplace=True)\n",
    "\n",
    "#change the type of some lines\n",
    "dftable = dftable.astype({\"affection\": str})\n",
    "dftable = dftable.astype({\"fk\": float})\n",
    "dftable = dftable.astype({\"age\": int})\n"
   ]
  },
  {
   "cell_type": "code",
   "execution_count": 25,
   "id": "4879daa5",
   "metadata": {},
   "outputs": [],
   "source": [
    "# garder les coloumns qu'on est besoin \n",
    "dftable=dftable[['id','fk','codeps','affection','age','applic_tarif','date_paiement','num_enr','sexe','ts','quantite_med','qte_rejet']]\n",
    "# print the columns that we need : dftable.info()"
   ]
  },
  {
   "cell_type": "code",
   "execution_count": 26,
   "id": "45eafc14",
   "metadata": {},
   "outputs": [],
   "source": [
    "# split the table into two table : rejected one and accepted one\n",
    "rejected = dftable[dftable['qte_rejet'] > 0]\n",
    "accepted = dftable[dftable['qte_rejet'] == 0]"
   ]
  },
  {
   "cell_type": "code",
   "execution_count": 27,
   "id": "dc30d713",
   "metadata": {},
   "outputs": [
    {
     "data": {
      "text/html": [
       "<div>\n",
       "<style scoped>\n",
       "    .dataframe tbody tr th:only-of-type {\n",
       "        vertical-align: middle;\n",
       "    }\n",
       "\n",
       "    .dataframe tbody tr th {\n",
       "        vertical-align: top;\n",
       "    }\n",
       "\n",
       "    .dataframe thead th {\n",
       "        text-align: right;\n",
       "    }\n",
       "</style>\n",
       "<table border=\"1\" class=\"dataframe\">\n",
       "  <thead>\n",
       "    <tr style=\"text-align: right;\">\n",
       "      <th></th>\n",
       "      <th>id</th>\n",
       "      <th>fk</th>\n",
       "      <th>codeps</th>\n",
       "      <th>affection</th>\n",
       "      <th>age</th>\n",
       "      <th>applic_tarif</th>\n",
       "      <th>date_paiement</th>\n",
       "      <th>num_enr</th>\n",
       "      <th>sexe</th>\n",
       "      <th>ts</th>\n",
       "      <th>quantite_med</th>\n",
       "      <th>qte_rejet</th>\n",
       "    </tr>\n",
       "  </thead>\n",
       "  <tbody>\n",
       "    <tr>\n",
       "      <th>711</th>\n",
       "      <td>119493.0</td>\n",
       "      <td>6.601690e+32</td>\n",
       "      <td>4501000283</td>\n",
       "      <td>-1</td>\n",
       "      <td>56</td>\n",
       "      <td>O</td>\n",
       "      <td>2022-01-26</td>\n",
       "      <td>01294</td>\n",
       "      <td>M</td>\n",
       "      <td>N</td>\n",
       "      <td>1.0</td>\n",
       "      <td>1.0</td>\n",
       "    </tr>\n",
       "    <tr>\n",
       "      <th>883</th>\n",
       "      <td>113252.0</td>\n",
       "      <td>3.801150e+32</td>\n",
       "      <td>4501000283</td>\n",
       "      <td>80,07</td>\n",
       "      <td>84</td>\n",
       "      <td>O</td>\n",
       "      <td>2022-01-26</td>\n",
       "      <td>04419</td>\n",
       "      <td>M</td>\n",
       "      <td>N</td>\n",
       "      <td>1.0</td>\n",
       "      <td>1.0</td>\n",
       "    </tr>\n",
       "    <tr>\n",
       "      <th>918</th>\n",
       "      <td>113060.0</td>\n",
       "      <td>7.810300e+32</td>\n",
       "      <td>4501000283</td>\n",
       "      <td>-1</td>\n",
       "      <td>44</td>\n",
       "      <td>O</td>\n",
       "      <td>2022-01-26</td>\n",
       "      <td>05406</td>\n",
       "      <td>F</td>\n",
       "      <td>N</td>\n",
       "      <td>1.0</td>\n",
       "      <td>1.0</td>\n",
       "    </tr>\n",
       "    <tr>\n",
       "      <th>1245</th>\n",
       "      <td>110861.0</td>\n",
       "      <td>2.837040e+32</td>\n",
       "      <td>4501000283</td>\n",
       "      <td>80</td>\n",
       "      <td>94</td>\n",
       "      <td>O</td>\n",
       "      <td>2022-01-20</td>\n",
       "      <td>05849</td>\n",
       "      <td>F</td>\n",
       "      <td>N</td>\n",
       "      <td>3.0</td>\n",
       "      <td>3.0</td>\n",
       "    </tr>\n",
       "    <tr>\n",
       "      <th>1311</th>\n",
       "      <td>110155.0</td>\n",
       "      <td>4.506930e+32</td>\n",
       "      <td>4501000283</td>\n",
       "      <td>-1</td>\n",
       "      <td>77</td>\n",
       "      <td>O</td>\n",
       "      <td>2022-01-20</td>\n",
       "      <td>02638</td>\n",
       "      <td>F</td>\n",
       "      <td>N</td>\n",
       "      <td>1.0</td>\n",
       "      <td>1.0</td>\n",
       "    </tr>\n",
       "    <tr>\n",
       "      <th>...</th>\n",
       "      <td>...</td>\n",
       "      <td>...</td>\n",
       "      <td>...</td>\n",
       "      <td>...</td>\n",
       "      <td>...</td>\n",
       "      <td>...</td>\n",
       "      <td>...</td>\n",
       "      <td>...</td>\n",
       "      <td>...</td>\n",
       "      <td>...</td>\n",
       "      <td>...</td>\n",
       "      <td>...</td>\n",
       "    </tr>\n",
       "    <tr>\n",
       "      <th>136157</th>\n",
       "      <td>4462.0</td>\n",
       "      <td>4.211230e+32</td>\n",
       "      <td>4501303568</td>\n",
       "      <td>19,17,80</td>\n",
       "      <td>74</td>\n",
       "      <td>N</td>\n",
       "      <td>2022-01-11</td>\n",
       "      <td>01393</td>\n",
       "      <td>F</td>\n",
       "      <td>N</td>\n",
       "      <td>2.0</td>\n",
       "      <td>1.0</td>\n",
       "    </tr>\n",
       "    <tr>\n",
       "      <th>136190</th>\n",
       "      <td>3847.0</td>\n",
       "      <td>4.109960e+32</td>\n",
       "      <td>4501303568</td>\n",
       "      <td>80,17</td>\n",
       "      <td>51</td>\n",
       "      <td>O</td>\n",
       "      <td>2022-01-11</td>\n",
       "      <td>05628</td>\n",
       "      <td>F</td>\n",
       "      <td>N</td>\n",
       "      <td>3.0</td>\n",
       "      <td>1.0</td>\n",
       "    </tr>\n",
       "    <tr>\n",
       "      <th>136226</th>\n",
       "      <td>2896.0</td>\n",
       "      <td>3.913080e+32</td>\n",
       "      <td>4501303568</td>\n",
       "      <td>80,82</td>\n",
       "      <td>79</td>\n",
       "      <td>N</td>\n",
       "      <td>2022-01-11</td>\n",
       "      <td>06812</td>\n",
       "      <td>F</td>\n",
       "      <td>N</td>\n",
       "      <td>3.0</td>\n",
       "      <td>2.0</td>\n",
       "    </tr>\n",
       "    <tr>\n",
       "      <th>136345</th>\n",
       "      <td>49.0</td>\n",
       "      <td>1.525640e+32</td>\n",
       "      <td>4501303568</td>\n",
       "      <td>-1</td>\n",
       "      <td>28</td>\n",
       "      <td>N</td>\n",
       "      <td>2022-01-11</td>\n",
       "      <td>06513</td>\n",
       "      <td>F</td>\n",
       "      <td>N</td>\n",
       "      <td>1.0</td>\n",
       "      <td>1.0</td>\n",
       "    </tr>\n",
       "    <tr>\n",
       "      <th>138019</th>\n",
       "      <td>23155.0</td>\n",
       "      <td>6.300940e+32</td>\n",
       "      <td>4501303865</td>\n",
       "      <td>-1</td>\n",
       "      <td>9</td>\n",
       "      <td>O</td>\n",
       "      <td>2022-01-19</td>\n",
       "      <td>00240</td>\n",
       "      <td>M</td>\n",
       "      <td>N</td>\n",
       "      <td>1.0</td>\n",
       "      <td>1.0</td>\n",
       "    </tr>\n",
       "  </tbody>\n",
       "</table>\n",
       "<p>384 rows × 12 columns</p>\n",
       "</div>"
      ],
      "text/plain": [
       "              id            fk      codeps affection  age applic_tarif  \\\n",
       "711     119493.0  6.601690e+32  4501000283        -1   56            O   \n",
       "883     113252.0  3.801150e+32  4501000283     80,07   84            O   \n",
       "918     113060.0  7.810300e+32  4501000283        -1   44            O   \n",
       "1245    110861.0  2.837040e+32  4501000283        80   94            O   \n",
       "1311    110155.0  4.506930e+32  4501000283        -1   77            O   \n",
       "...          ...           ...         ...       ...  ...          ...   \n",
       "136157    4462.0  4.211230e+32  4501303568  19,17,80   74            N   \n",
       "136190    3847.0  4.109960e+32  4501303568     80,17   51            O   \n",
       "136226    2896.0  3.913080e+32  4501303568     80,82   79            N   \n",
       "136345      49.0  1.525640e+32  4501303568        -1   28            N   \n",
       "138019   23155.0  6.300940e+32  4501303865        -1    9            O   \n",
       "\n",
       "       date_paiement num_enr sexe ts  quantite_med  qte_rejet  \n",
       "711       2022-01-26   01294    M  N           1.0        1.0  \n",
       "883       2022-01-26   04419    M  N           1.0        1.0  \n",
       "918       2022-01-26   05406    F  N           1.0        1.0  \n",
       "1245      2022-01-20   05849    F  N           3.0        3.0  \n",
       "1311      2022-01-20   02638    F  N           1.0        1.0  \n",
       "...              ...     ...  ... ..           ...        ...  \n",
       "136157    2022-01-11   01393    F  N           2.0        1.0  \n",
       "136190    2022-01-11   05628    F  N           3.0        1.0  \n",
       "136226    2022-01-11   06812    F  N           3.0        2.0  \n",
       "136345    2022-01-11   06513    F  N           1.0        1.0  \n",
       "138019    2022-01-19   00240    M  N           1.0        1.0  \n",
       "\n",
       "[384 rows x 12 columns]"
      ]
     },
     "execution_count": 27,
     "metadata": {},
     "output_type": "execute_result"
    }
   ],
   "source": [
    "rejected"
   ]
  },
  {
   "cell_type": "code",
   "execution_count": 28,
   "id": "bf710133",
   "metadata": {},
   "outputs": [],
   "source": [
    "sparkdf = spark.createDataFrame(accepted)\n",
    "rejected_sparkdf = spark.createDataFrame(rejected)"
   ]
  },
  {
   "cell_type": "code",
   "execution_count": 30,
   "id": "99db7146",
   "metadata": {},
   "outputs": [],
   "source": [
    "#transform the affection column to array of int ( splited by ',')\n",
    "sparkdf = sparkdf.withColumn(\"affection\", split(col(\"affection\"), \",\").cast(\"array<int>\"))"
   ]
  },
  {
   "cell_type": "code",
   "execution_count": 31,
   "id": "6234ffcc",
   "metadata": {},
   "outputs": [],
   "source": [
    "#sort the affection array \n",
    "import pyspark.sql.functions as F\n",
    "sparkdf = sparkdf.withColumn('affection', F.array_sort('affection'))"
   ]
  },
  {
   "cell_type": "code",
   "execution_count": 32,
   "id": "1616ad07",
   "metadata": {},
   "outputs": [],
   "source": [
    "## put the age in ranges\n",
    "from pyspark.sql.functions import udf\n",
    "@udf(\"String\")\n",
    "def age_range(age):\n",
    "    if age >= 0 and age <= 5:\n",
    "        return '0-5'\n",
    "    elif age > 5 and age <= 10:\n",
    "        return '6-10'\n",
    "    elif age > 10 and age <= 16:\n",
    "        return '11-16' \n",
    "    elif age > 16 and age <= 24:\n",
    "        return '17-24' \n",
    "    elif age > 24 and age <= 60:\n",
    "        return '25-60' \n",
    "    elif age > 60 and age <= 76:\n",
    "        return '61-76' \n",
    "    else:\n",
    "        return '75+'\n",
    "    \n",
    "\n",
    "\n",
    "sparkdf = sparkdf.withColumn(\"age\", age_range(col(\"age\")))"
   ]
  },
  {
   "cell_type": "code",
   "execution_count": 33,
   "id": "dda3c693",
   "metadata": {},
   "outputs": [],
   "source": [
    "# transform the affection column to a string again ( so we can index it)\n",
    "from pyspark.sql.functions import col, concat_ws\n",
    "sparkdf = sparkdf.withColumn(\"affection\",\n",
    "   concat_ws(\",\",col(\"affection\")))"
   ]
  },
  {
   "cell_type": "code",
   "execution_count": 34,
   "id": "d2f619c0",
   "metadata": {},
   "outputs": [
    {
     "name": "stderr",
     "output_type": "stream",
     "text": [
      "22/06/21 01:49:04 WARN TaskSetManager: Stage 0 contains a task of very large size (1342 KiB). The maximum recommended task size is 1000 KiB.\n",
      "                                                                                \r"
     ]
    }
   ],
   "source": [
    "### Handling Categorical Features\n",
    "from pyspark.ml.feature import StringIndexer\n",
    "indexer=StringIndexer(inputCols=[\"sexe\",\"applic_tarif\",\"ts\",\"affection\",\"age\"],outputCols=[\"sex_indexed\",\"applic_tarif_indexed\",\n",
    "                                                                         \"ts_indexes\",\"affection_indexes\",\"age_indexes\"])\n",
    "df_r=indexer.setHandleInvalid(\"keep\").fit(sparkdf).transform(sparkdf)\n"
   ]
  },
  {
   "cell_type": "code",
   "execution_count": 35,
   "id": "7991fb26",
   "metadata": {},
   "outputs": [],
   "source": [
    "# call the model and fit it \n",
    "from pyspark.ml.feature import VectorAssembler\n",
    "featureassembler=VectorAssembler(inputCols=['id','fk','age_indexes','sex_indexed','affection_indexes',\n",
    "                          'ts_indexes','quantite_med',],outputCol=\"Independent Features\")\n",
    "output=featureassembler.transform(df_r)"
   ]
  },
  {
   "cell_type": "code",
   "execution_count": 36,
   "id": "07b9109a",
   "metadata": {},
   "outputs": [],
   "source": [
    "#prepare the data to fit it to the model \n",
    "finalized_data=output.select(\"Independent Features\",\"quantite_med\")"
   ]
  },
  {
   "cell_type": "code",
   "execution_count": 37,
   "id": "78e50b3d",
   "metadata": {},
   "outputs": [
    {
     "name": "stderr",
     "output_type": "stream",
     "text": [
      "22/06/21 01:53:35 WARN TaskSetManager: Stage 3 contains a task of very large size (1342 KiB). The maximum recommended task size is 1000 KiB.\n",
      "22/06/21 01:53:36 WARN InstanceBuilder$NativeBLAS: Failed to load implementation from:dev.ludovic.netlib.blas.JNIBLAS\n",
      "22/06/21 01:53:36 WARN InstanceBuilder$NativeBLAS: Failed to load implementation from:dev.ludovic.netlib.blas.ForeignLinkerBLAS\n",
      "22/06/21 01:53:37 WARN TaskSetManager: Stage 5 contains a task of very large size (1342 KiB). The maximum recommended task size is 1000 KiB.\n",
      "                                                                                \r"
     ]
    }
   ],
   "source": [
    "# call and fit the model \n",
    "from pyspark.ml.regression import LinearRegression\n",
    "##train test split\n",
    "train_data,test_data=finalized_data.randomSplit([0.75,0.25])\n",
    "regressor=LinearRegression(featuresCol='Independent Features', labelCol='quantite_med', maxIter=10, regParam=0.3, elasticNetParam=0.8)\n",
    "regressor=regressor.fit(train_data)"
   ]
  },
  {
   "cell_type": "code",
   "execution_count": 38,
   "id": "efb33fd7",
   "metadata": {},
   "outputs": [
    {
     "name": "stdout",
     "output_type": "stream",
     "text": [
      "Coefficients: [0.0,0.0,0.0,0.0,0.0,0.0,0.7939201046267776]\n",
      "Intercept: 0.3441251379654925\n"
     ]
    }
   ],
   "source": [
    "print(\"Coefficients: %s\" % str(regressor.coefficients))\n",
    "print(\"Intercept: %s\" % str(regressor.intercept))"
   ]
  },
  {
   "cell_type": "code",
   "execution_count": 39,
   "id": "507d8aef",
   "metadata": {},
   "outputs": [
    {
     "name": "stderr",
     "output_type": "stream",
     "text": [
      "22/06/21 01:55:13 WARN TaskSetManager: Stage 7 contains a task of very large size (1342 KiB). The maximum recommended task size is 1000 KiB.\n",
      "/home/nourguealia/anaconda3/lib/python3.9/site-packages/pyspark/sql/context.py:125: FutureWarning: Deprecated in 3.0.0. Use SparkSession.builder.getOrCreate() instead.\n",
      "  warnings.warn(\n",
      "22/06/21 01:55:14 WARN TaskSetManager: Stage 9 contains a task of very large size (1342 KiB). The maximum recommended task size is 1000 KiB.\n"
     ]
    },
    {
     "name": "stdout",
     "output_type": "stream",
     "text": [
      "+--------------------+------------+------------------+\n",
      "|Independent Features|quantite_med|        prediction|\n",
      "+--------------------+------------+------------------+\n",
      "|(7,[0,1,6],[1.0,1...|         1.0|1.1380452425922702|\n",
      "|(7,[0,1,6],[102.0...|         1.0|1.1380452425922702|\n",
      "|(7,[0,1,6],[536.0...|         2.0|1.9319653472190477|\n",
      "|(7,[0,1,6],[1187....|         1.0|1.1380452425922702|\n",
      "|(7,[0,1,6],[1245....|         3.0|2.7258854518458255|\n",
      "|(7,[0,1,6],[1918....|         1.0|1.1380452425922702|\n",
      "|(7,[0,1,6],[2110....|         1.0|1.1380452425922702|\n",
      "|(7,[0,1,6],[2130....|         2.0|1.9319653472190477|\n",
      "|(7,[0,1,6],[2131....|         1.0|1.1380452425922702|\n",
      "|(7,[0,1,6],[2132....|         2.0|1.9319653472190477|\n",
      "|(7,[0,1,6],[2271....|         3.0|2.7258854518458255|\n",
      "|(7,[0,1,6],[2275....|         2.0|1.9319653472190477|\n",
      "|(7,[0,1,6],[2459....|         1.0|1.1380452425922702|\n",
      "|(7,[0,1,6],[2511....|         3.0|2.7258854518458255|\n",
      "|(7,[0,1,6],[2514....|         1.0|1.1380452425922702|\n",
      "|(7,[0,1,6],[2717....|         1.0|1.1380452425922702|\n",
      "|(7,[0,1,6],[3197....|         2.0|1.9319653472190477|\n",
      "|(7,[0,1,6],[3198....|         1.0|1.1380452425922702|\n",
      "|(7,[0,1,6],[3199....|         1.0|1.1380452425922702|\n",
      "|(7,[0,1,6],[3488....|         1.0|1.1380452425922702|\n",
      "+--------------------+------------+------------------+\n",
      "only showing top 20 rows\n",
      "\n"
     ]
    }
   ],
   "source": [
    "### Predictions\n",
    "pred_results=regressor.evaluate(test_data)\n",
    "## Final comparison\n",
    "pred_results.predictions.show()"
   ]
  },
  {
   "cell_type": "code",
   "execution_count": 40,
   "id": "7f78bcee",
   "metadata": {},
   "outputs": [
    {
     "data": {
      "text/plain": [
       "(0.9575305154100787, 0.18358133832686163, 0.08416800767901612)"
      ]
     },
     "execution_count": 40,
     "metadata": {},
     "output_type": "execute_result"
    }
   ],
   "source": [
    "### Performance Metrics\n",
    "pred_results.r2,pred_results.meanAbsoluteError,pred_results.meanSquaredError"
   ]
  },
  {
   "cell_type": "code",
   "execution_count": 41,
   "id": "83279ac7",
   "metadata": {},
   "outputs": [
    {
     "name": "stdout",
     "output_type": "stream",
     "text": [
      "+--------------------+------------+--------------------+\n",
      "|Independent Features|quantite_med|round(prediction, 0)|\n",
      "+--------------------+------------+--------------------+\n",
      "|(7,[0,1,6],[536.0...|         2.0|                 2.0|\n",
      "|(7,[0,1,6],[1245....|         3.0|                 3.0|\n",
      "|(7,[0,1,6],[2130....|         2.0|                 2.0|\n",
      "|(7,[0,1,6],[2132....|         2.0|                 2.0|\n",
      "|(7,[0,1,6],[2271....|         3.0|                 3.0|\n",
      "|(7,[0,1,6],[2275....|         2.0|                 2.0|\n",
      "|(7,[0,1,6],[2511....|         3.0|                 3.0|\n",
      "|(7,[0,1,6],[3197....|         2.0|                 2.0|\n",
      "|(7,[0,1,6],[5965....|         2.0|                 2.0|\n",
      "|(7,[0,1,6],[6951....|         2.0|                 2.0|\n",
      "|(7,[0,1,6],[7957....|         2.0|                 2.0|\n",
      "|(7,[0,1,6],[8095....|         3.0|                 3.0|\n",
      "|(7,[0,1,6],[8149....|         4.0|                 4.0|\n",
      "|(7,[0,1,6],[8642....|         2.0|                 2.0|\n",
      "|(7,[0,1,6],[8842....|         2.0|                 2.0|\n",
      "|(7,[0,1,6],[8844....|         2.0|                 2.0|\n",
      "|(7,[0,1,6],[9637....|         2.0|                 2.0|\n",
      "|(7,[0,1,6],[9638....|         2.0|                 2.0|\n",
      "|(7,[0,1,6],[9966....|         4.0|                 4.0|\n",
      "|(7,[0,1,6],[9967....|         2.0|                 2.0|\n",
      "|(7,[0,1,6],[10701...|        10.0|                 8.0|\n",
      "|(7,[0,1,6],[10703...|         2.0|                 2.0|\n",
      "|(7,[0,1,6],[11461...|         3.0|                 3.0|\n",
      "|(7,[0,1,6],[13030...|         2.0|                 2.0|\n",
      "|(7,[0,1,6],[13704...|         3.0|                 3.0|\n",
      "|(7,[0,1,6],[13944...|         4.0|                 4.0|\n",
      "|(7,[0,1,6],[13945...|         8.0|                 7.0|\n",
      "|(7,[0,1,6],[14594...|         2.0|                 2.0|\n",
      "|(7,[0,1,6],[14691...|         4.0|                 4.0|\n",
      "|(7,[0,1,6],[14839...|         2.0|                 2.0|\n",
      "|(7,[0,1,6],[14844...|        10.0|                 8.0|\n",
      "|(7,[0,1,6],[15479...|         3.0|                 3.0|\n",
      "|(7,[0,1,6],[17768...|         2.0|                 2.0|\n",
      "|(7,[0,1,6],[17886...|         2.0|                 2.0|\n",
      "|(7,[0,1,6],[18158...|         2.0|                 2.0|\n",
      "|(7,[0,1,6],[18805...|         2.0|                 2.0|\n",
      "|(7,[0,1,6],[20558...|         2.0|                 2.0|\n",
      "|(7,[0,1,6],[21126...|         6.0|                 5.0|\n",
      "|(7,[0,1,6],[22314...|         2.0|                 2.0|\n",
      "|(7,[0,1,6],[22315...|         2.0|                 2.0|\n",
      "|(7,[0,1,6],[22539...|         3.0|                 3.0|\n",
      "|(7,[0,1,6],[23584...|         2.0|                 2.0|\n",
      "|(7,[0,1,6],[24835...|         2.0|                 2.0|\n",
      "|(7,[0,1,6],[24870...|         2.0|                 2.0|\n",
      "|(7,[0,1,6],[25058...|         3.0|                 3.0|\n",
      "|(7,[0,1,6],[28137...|         6.0|                 5.0|\n",
      "|(7,[0,1,6],[29528...|        21.0|                17.0|\n",
      "|(7,[0,1,6],[31033...|         3.0|                 3.0|\n",
      "|(7,[0,1,6],[32037...|         2.0|                 2.0|\n",
      "|(7,[0,1,6],[33571...|         2.0|                 2.0|\n",
      "+--------------------+------------+--------------------+\n",
      "only showing top 50 rows\n",
      "\n"
     ]
    },
    {
     "name": "stderr",
     "output_type": "stream",
     "text": [
      "22/06/21 01:57:32 WARN TaskSetManager: Stage 10 contains a task of very large size (1342 KiB). The maximum recommended task size is 1000 KiB.\n"
     ]
    }
   ],
   "source": [
    "Final_result = pred_results.predictions.where(\"quantite_med > prediction \")\n",
    "\n",
    "from pyspark.sql.functions import round, col\n",
    "Final_result = Final_result.select(\"Independent Features\"  , \"quantite_med\", round(col('prediction')))\n",
    "Final_result.show(50)"
   ]
  },
  {
   "cell_type": "code",
   "execution_count": null,
   "id": "69c14465",
   "metadata": {},
   "outputs": [],
   "source": []
  }
 ],
 "metadata": {
  "kernelspec": {
   "display_name": "Python 3 (ipykernel)",
   "language": "python",
   "name": "python3"
  },
  "language_info": {
   "codemirror_mode": {
    "name": "ipython",
    "version": 3
   },
   "file_extension": ".py",
   "mimetype": "text/x-python",
   "name": "python",
   "nbconvert_exporter": "python",
   "pygments_lexer": "ipython3",
   "version": "3.9.7"
  }
 },
 "nbformat": 4,
 "nbformat_minor": 5
}
